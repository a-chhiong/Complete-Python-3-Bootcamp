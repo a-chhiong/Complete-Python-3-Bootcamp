{
 "cells": [
  {
   "cell_type": "markdown",
   "metadata": {},
   "source": [
    "___\n",
    "\n",
    "<a href='https://www.udemy.com/user/joseportilla/'><img src='../../Pierian_Data_Logo.png'/></a>\n",
    "___\n",
    "<center><em>Content Copyright by Pierian Data</em></center>"
   ]
  },
  {
   "cell_type": "markdown",
   "metadata": {},
   "source": [
    "# Advanced Modules Exercise Puzzle\n",
    "\n",
    "It's time to test your new skills, this puzzle project will combine multiple skills sets, including unzipping files with Python, using os module to automatically search through lots of files.\n",
    "\n",
    "## Your Goal\n",
    "\n",
    "This is a puzzle, so we don't want to give you too much guidance and instead have you figure out things on your own.\n",
    "\n",
    "There is a .zip file called 'unzip_me_for_instructions.zip', unzip it, open the .txt file with Python, read the instructions and see if you can figure out what you need to do!\n",
    "\n",
    "**If you get stuck or don't know where to start, here is a [guide/hints](https://docs.google.com/document/d/1JxydUr4n4fSR0EwwuwT-aHia-yPK6r-oTBuVT2sqheo/edit?usp=sharing)**"
   ]
  },
  {
   "cell_type": "code",
   "execution_count": 10,
   "metadata": {},
   "outputs": [
    {
     "name": "stdout",
     "output_type": "stream",
     "text": [
      "Good work on unzipping the file!\n",
      "You should now see 5 folders, each with a lot of random .txt files.\n",
      "Within one of these text files is a telephone number formated ###-###-#### \n",
      "Use the Python os module and regular expressions to iterate through each file, open it, and search for a telephone number.\n",
      "Good luck!\n",
      "##########\n"
     ]
    }
   ],
   "source": [
    "import shutil\n",
    "\n",
    "shutil.unpack_archive('unzip_me_for_instructions.zip','','zip')\n",
    "\n",
    "with open('extracted_content/Instructions.txt') as f:\n",
    "    content = f.read()\n",
    "    print(content)\n",
    "    print('##########')\n",
    "    "
   ]
  },
  {
   "cell_type": "code",
   "execution_count": 29,
   "metadata": {},
   "outputs": [],
   "source": [
    "import re\n",
    "\n",
    "def search(file,pattern= r'\\d{3}-\\d{3}-\\d{4}'):\n",
    "    f = open(file,'r')\n",
    "    text = f.read()\n",
    "    \n",
    "    if re.search(pattern,text):\n",
    "        return re.search(pattern,text)\n",
    "    else:\n",
    "        return ''\n",
    "    "
   ]
  },
  {
   "cell_type": "code",
   "execution_count": 38,
   "metadata": {},
   "outputs": [
    {
     "name": "stdout",
     "output_type": "stream",
     "text": [
      "folder = /Users/jl/Documents/GitHub/a-chhiong/Complete-Python-3-Bootcamp/12-Advanced Python Modules/08-Advanced-Python-Module-Exercise/extracted_content\n",
      "files = ['Instructions.txt']\n",
      "folder = /Users/jl/Documents/GitHub/a-chhiong/Complete-Python-3-Bootcamp/12-Advanced Python Modules/08-Advanced-Python-Module-Exercise/extracted_content/Three\n",
      "files = ['VSXFSTABZDY.txt', 'YDQFMWXOUMW.txt', 'YQBIUHSUEVW.txt', 'XAJMCPEWFNI.txt', 'ZXEZRQXZNPG.txt', 'ZKQJXAYKPVD.txt', 'XVMPVSVYKFR.txt', 'XHZPVUQTXIO.txt', 'YYIZGBTQHZP.txt', 'VCFJCGJFBIH.txt', 'VVHFVZUNLOO.txt', 'VVKGWLRMHLU.txt', 'XJCWENFFGHB.txt', 'XFHJOTNPEJG.txt', 'ZOWVXWPOGWP.txt', 'ZXIBJMPROKW.txt', 'VAQIJTDOFUJ.txt', 'YCESZHJDBXH.txt', 'YQRNCMNFFHW.txt', 'ZEZKKRBIZEB.txt']\n",
      "folder = /Users/jl/Documents/GitHub/a-chhiong/Complete-Python-3-Bootcamp/12-Advanced Python Modules/08-Advanced-Python-Module-Exercise/extracted_content/One\n",
      "files = ['LFEATJAAYDC.txt', 'KCXGNQCZBLO.txt', 'KFIUZFERLET.txt', 'LIFDHOFKWOI.txt', 'HRQFTHKVJTL.txt', 'PLYCGPVEAWO.txt', 'JEHBLZPUPSP.txt', 'PDJMSMNKIRM.txt', 'LPNDVDXPZIG.txt', 'HMNZTLIFGPD.txt', 'KNBSKDREHQU.txt', 'KTXDHIOKAUI.txt', 'JQUOBKFUACN.txt', 'HFUTPPAXDIS.txt', 'PTOBBCJYURJ.txt', 'LHODFIKVTQA.txt', 'JLTXKIGCWDL.txt', 'HDOHZHFSTTK.txt', 'KMMLGJOWLGI.txt', 'JDLRVFCXYLU.txt', 'PHWAVPEKAER.txt', 'LDGOCUQJNNS.txt', 'JTHSNBNPQSE.txt', 'HVUTZEVMSBW.txt', 'PQNVCVJINAR.txt']\n",
      "folder = /Users/jl/Documents/GitHub/a-chhiong/Complete-Python-3-Bootcamp/12-Advanced Python Modules/08-Advanced-Python-Module-Exercise/extracted_content/Two\n",
      "files = ['HEORIXOTANT.txt', 'SOFUJYXTIMK.txt', 'HMZXPBOPRAE.txt', 'OMWIMVRCMYM.txt', 'OHZOUOSFJQC.txt', 'OKWFOOYTXFU.txt', 'LVMBINRBJXL.txt', 'LSQSTGPIGIY.txt', 'OIHMLGMWTHL.txt', 'GQTJJORZBXY.txt', 'HARDNJGDRBC.txt', 'OYMAGXAGWHJ.txt', 'HMUTDOVNYTV.txt', 'LYZEQCVYNEZ.txt', 'GMMQQUBMJNR.txt', 'GTOTCIWMDBY.txt', 'LULTNYAQEJG.txt', 'HTOHSTYXTCO.txt', 'SJMJLDGPBSJ.txt', 'LCJZYDHBFRM.txt', 'SPDZYGDHEWO.txt', 'SIKFPPLCJDN.txt', 'GXYSEPAFRTP.txt', 'SWOFXREEHWA.txt', 'GKQBQRCTNNK.txt']\n",
      "folder = /Users/jl/Documents/GitHub/a-chhiong/Complete-Python-3-Bootcamp/12-Advanced Python Modules/08-Advanced-Python-Module-Exercise/extracted_content/Five\n",
      "files = ['ESIZWBHMGDP.txt', 'BUGKBZWRRVI.txt', 'ARLKFCWIAJE.txt', 'EYTCGIOYWIW.txt', 'APJKSRITGGX.txt', 'AXJGVPVEFAS.txt', 'CSCLFZCDYYC.txt', 'CAHBEVSVDDN.txt', 'BVBURZZCAPR.txt', 'ETCUEXWNBCF.txt', 'CRFSDGYFSHA.txt', 'DYOPIIVMZOO.txt', 'DDLASODUVPX.txt', 'CXBVCTRBBIE.txt', 'COMGMZBJAYE.txt', 'EAAOEPSAWMQ.txt', 'DZUWWXYIAEL.txt', 'EIPWXMQZJKU.txt', 'DHZBAAYEADM.txt', 'BSKJDRNEZQM.txt', 'AQKATDFGXTS.txt', 'BTYWAHLHKBM.txt', 'AEITMYIRQLP.txt', 'BNUQEHCFRTG.txt', 'DQPZQLBCJYP.txt']\n",
      "folder = /Users/jl/Documents/GitHub/a-chhiong/Complete-Python-3-Bootcamp/12-Advanced Python Modules/08-Advanced-Python-Module-Exercise/extracted_content/Four\n",
      "files = ['WHTOHQUWXIN.txt', 'QDDETWBHJYC.txt', 'WNJISWPEBRS.txt', 'WFSKPTXPFCH.txt', 'EMTGPSXQEJX.txt', 'TWUOYFCCYBQ.txt', 'QTDYYIFPHAU.txt', 'TAKNAVDMZKV.txt', 'RYNXFYXMKHG.txt', 'ROICPTWKXDX.txt', 'QCWCFLKNZMN.txt', 'EXVQSVBQQQH.txt', 'THPNEGKTJWI.txt', 'TJFMLJODVAD.txt', 'QCTCKDIBBVG.txt', 'TKCZSFQNJTX.txt', 'WXDJDOGZEHN.txt', 'QVNJULGXNUM.txt', 'RSXOTNGKBML.txt', 'EPRNUHRSESC.txt', 'ECIOBYCDVFI.txt', 'RXDARIDGKBF.txt', 'REAXWSOIQDY.txt', 'WYDLGSGGXKV.txt', 'ESDIZXHYCVY.txt']\n",
      "matches: 719-266-2837\n"
     ]
    }
   ],
   "source": [
    "import os\n",
    "\n",
    "results = []\n",
    "target_path = os.getcwd()+\"/extracted_content\"\n",
    "\n",
    "for folder , sub_folders , files in os.walk(target_path):\n",
    "    print(f\"folder = {folder}\")\n",
    "    print(f\"files = {files}\")\n",
    "    \n",
    "    for f in files:\n",
    "        full_path = folder+'/'+f\n",
    "        search_result = search(full_path)\n",
    "        results.append(search_result) \n",
    "\n",
    "for r in results:\n",
    "    if r != '':\n",
    "        print(f\"matches: {r.group()}\")\n"
   ]
  },
  {
   "cell_type": "code",
   "execution_count": null,
   "metadata": {},
   "outputs": [],
   "source": []
  }
 ],
 "metadata": {
  "anaconda-cloud": {},
  "kernelspec": {
   "display_name": "Python 3 (ipykernel)",
   "language": "python",
   "name": "python3"
  },
  "language_info": {
   "codemirror_mode": {
    "name": "ipython",
    "version": 3
   },
   "file_extension": ".py",
   "mimetype": "text/x-python",
   "name": "python",
   "nbconvert_exporter": "python",
   "pygments_lexer": "ipython3",
   "version": "3.9.13"
  }
 },
 "nbformat": 4,
 "nbformat_minor": 2
}
